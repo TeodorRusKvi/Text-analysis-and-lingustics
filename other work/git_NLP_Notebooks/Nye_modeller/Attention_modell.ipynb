{
 "cells": [
  {
   "cell_type": "code",
   "execution_count": 3,
   "metadata": {},
   "outputs": [
    {
     "name": "stdout",
     "output_type": "stream",
     "text": [
      "WARNING:tensorflow:From c:\\Users\\bugat\\anaconda3\\Lib\\site-packages\\keras\\src\\losses.py:2976: The name tf.losses.sparse_softmax_cross_entropy is deprecated. Please use tf.compat.v1.losses.sparse_softmax_cross_entropy instead.\n",
      "\n"
     ]
    }
   ],
   "source": [
    "import pandas as pd\n",
    "import numpy as np\n",
    "from sklearn.model_selection import KFold\n",
    "from tensorflow.keras.callbacks import EarlyStopping\n",
    "import matplotlib.pyplot as plt\n",
    "from tensorflow.keras.preprocessing.text import Tokenizer\n",
    "import seaborn as sns"
   ]
  },
  {
   "cell_type": "code",
   "execution_count": 4,
   "metadata": {},
   "outputs": [
    {
     "name": "stdout",
     "output_type": "stream",
     "text": [
      "Found 22234 unique tokens.\n",
      "\n",
      "First 10 is listen below:\n",
      "{'<OOV>': 1, 'people': 2, 'like': 3, 'work': 4, 'right': 5, 'trump': 6, 'think': 7, 'state': 8, 'government': 9, 'party': 10}\n"
     ]
    }
   ],
   "source": [
    "df = pd.read_csv(r'C:\\Users\\bugat\\Prosjekter\\Tekstanalyse\\git_NLP\\Tekstanalyse\\git_NLP_data\\new_df.csv')\n",
    "\n",
    "df['All_text'] = df['All_text'].replace(['U.S.', 'U.S.A.'], ['US', 'USA'], regex=True)\n",
    "df['Processed'] = df['Processed'].fillna(0)\n",
    "df['Processed'] = df['Processed'].astype(str)\n",
    "df['All_text'] = df['All_text'].fillna(0)\n",
    "df['All_text'] = df['All_text'].astype(str)\n",
    "\n",
    "# df.to_csv('new_df.csv', index=False)\n",
    "\n",
    "# Making the relevant columns to lists\n",
    "all_texts = (df['All_text'].to_list())\n",
    "texts = df['Processed'].to_list()\n",
    "\n",
    "# Setting the wanted text for further modelling\n",
    "corpus = texts\n",
    "\n",
    "tokenizer = Tokenizer(oov_token='<OOV>') # Hyperparameters = num_words=vocab_size, oov_token=oov_tok\n",
    "tokenizer.fit_on_texts(corpus)\n",
    "\n",
    "sequences = tokenizer.texts_to_sequences(corpus)\n",
    "\n",
    "word_index = tokenizer.word_index\n",
    "print(f'Found {len(word_index)} unique tokens.\\n\\nFirst 10 is listen below:')\n",
    "print(dict(list(word_index.items())[0:10]))"
   ]
  },
  {
   "cell_type": "code",
   "execution_count": 5,
   "metadata": {},
   "outputs": [],
   "source": [
    "my_path = r'C:\\Users\\bugat\\Prosjekter\\Tekstanalyse\\git_NLP\\Tekstanalyse'\n",
    "log_base = my_path + '/logs/'\n",
    "model_save_dir = my_path + '/models'"
   ]
  },
  {
   "cell_type": "code",
   "execution_count": 6,
   "metadata": {},
   "outputs": [],
   "source": [
    "# Last inn 'X_train_LSTM' fra en CSV-fil\n",
    "X_train_LSTM = pd.read_csv(my_path+'/git_NLP_data/X_train.csv')\n",
    "# Konverter hele DataFrame til et NumPy array\n",
    "X_train_LSTM = X_train_LSTM.to_numpy()\n",
    "\n",
    "# Last inn 'y_train_LSTM' fra en CSV-fil\n",
    "y_train_LSTM = pd.read_csv(my_path +'/git_NLP_data/y_train.csv')\n",
    "# Konverter hele DataFrame til et NumPy array\n",
    "y_train_LSTM = y_train_LSTM.to_numpy()\n",
    "\n",
    "# Last inn 'y_train_LSTM' fra en CSV-fil\n",
    "embeddings_GloVe = pd.read_csv(my_path +'/git_NLP_data/embeddings_glove.csv')\n",
    "# Konverter hele DataFrame til et NumPy array\n",
    "embeddings_GloVe = embeddings_GloVe.to_numpy()"
   ]
  },
  {
   "cell_type": "code",
   "execution_count": 7,
   "metadata": {},
   "outputs": [],
   "source": [
    "from tensorflow.keras.layers import Layer\n",
    "import tensorflow as tf\n",
    "\n",
    "class BahdanauAttention(Layer):\n",
    "    def __init__(self, units):\n",
    "        super(BahdanauAttention, self).__init__()\n",
    "        self.W1 = tf.keras.layers.Dense(units)\n",
    "        self.W2 = tf.keras.layers.Dense(units)\n",
    "        self.V = tf.keras.layers.Dense(1)\n",
    "\n",
    "    def call(self, query, values):\n",
    "        # query hidden state shape == (batch_size, hidden size)\n",
    "        # query_with_time_axis shape == (batch_size, 1, hidden size)\n",
    "        # values shape == (batch_size, max_len, hidden size)\n",
    "        query_with_time_axis = tf.expand_dims(query, 1)\n",
    "        \n",
    "        # score shape == (batch_size, max_len, 1)\n",
    "        score = self.V(tf.nn.tanh(\n",
    "            self.W1(query_with_time_axis) + self.W2(values)))\n",
    "        \n",
    "        # attention_weights shape == (batch_size, max_len, 1)\n",
    "        attention_weights = tf.nn.softmax(score, axis=1)\n",
    "        \n",
    "        # context_vector shape after sum == (batch_size, hidden_size)\n",
    "        context_vector = attention_weights * values\n",
    "        context_vector = tf.reduce_sum(context_vector, axis=1)\n",
    "\n",
    "        return context_vector, attention_weights"
   ]
  },
  {
   "cell_type": "code",
   "execution_count": 8,
   "metadata": {},
   "outputs": [
    {
     "name": "stdout",
     "output_type": "stream",
     "text": [
      "WARNING:tensorflow:From c:\\Users\\bugat\\anaconda3\\Lib\\site-packages\\keras\\src\\backend.py:1398: The name tf.executing_eagerly_outside_functions is deprecated. Please use tf.compat.v1.executing_eagerly_outside_functions instead.\n",
      "\n",
      "WARNING:tensorflow:From c:\\Users\\bugat\\anaconda3\\Lib\\site-packages\\keras\\src\\optimizers\\__init__.py:309: The name tf.train.Optimizer is deprecated. Please use tf.compat.v1.train.Optimizer instead.\n",
      "\n",
      "402/402 [==============================] - 4s 6ms/step\n"
     ]
    }
   ],
   "source": [
    "from tensorflow.keras import Input, Model\n",
    "from tensorflow.keras.layers import Bidirectional, LSTM, Dense, GlobalMaxPooling1D, Dropout, Embedding\n",
    "\n",
    "class BahdanauAttention(Layer):\n",
    "    def __init__(self, units):\n",
    "        super(BahdanauAttention, self).__init__()\n",
    "        self.W1 = tf.keras.layers.Dense(units)\n",
    "        self.W2 = tf.keras.layers.Dense(units)\n",
    "        self.V = tf.keras.layers.Dense(1)\n",
    "\n",
    "    def call(self, query, values):\n",
    "        # query hidden state shape == (batch_size, hidden size)\n",
    "        # query_with_time_axis shape == (batch_size, 1, hidden size)\n",
    "        # values shape == (batch_size, max_len, hidden size)\n",
    "        query_with_time_axis = tf.expand_dims(query, 1)\n",
    "        \n",
    "        # score shape == (batch_size, max_len, 1)\n",
    "        score = self.V(tf.nn.tanh(\n",
    "            self.W1(query_with_time_axis) + self.W2(values)))\n",
    "        \n",
    "        # attention_weights shape == (batch_size, max_len, 1)\n",
    "        attention_weights = tf.nn.softmax(score, axis=1)\n",
    "        \n",
    "        # context_vector shape after sum == (batch_size, hidden_size)\n",
    "        context_vector = attention_weights * values\n",
    "        context_vector = tf.reduce_sum(context_vector, axis=1)\n",
    "\n",
    "        return context_vector, attention_weights\n",
    "    \n",
    "\n",
    "def build_simple_model(input_shape, embeddings_GloVe, num_classes):\n",
    "    sequence_input = Input(shape=input_shape, dtype='int32')\n",
    "    \n",
    "    # Embedding layer with pre-trained GloVe embeddings\n",
    "    embedded_sequences = Embedding(input_dim=embeddings_GloVe.shape[0],\n",
    "                                   output_dim=embeddings_GloVe.shape[1],\n",
    "                                   weights=[embeddings_GloVe],\n",
    "                                   trainable=False)(sequence_input)\n",
    "    \n",
    "    conv = Conv1D(filters=32, kernel_size=1, activation='relu')(embedded_sequences)\n",
    "    conv = GlobalMaxPooling1D()(conv)\n",
    "\n",
    "    # Bidirectional LSTM with attention\n",
    "    lstm_output = Bidirectional(LSTM(64, return_sequences=True))(conv)\n",
    "    attention_layer = BahdanauAttention(20)  # Assuming BahdanauAttention is defined elsewhere\n",
    "    attention_output, attention_weights = attention_layer(lstm_output, lstm_output)\n",
    "    \n",
    "    # Pooling layer to reduce dimensionality of the attention output\n",
    "    pooled_attention = GlobalMaxPooling1D()(attention_output)\n",
    "    \n",
    "    # Dropout for regularization\n",
    "    dropout_layer = Dropout(0.2)(pooled_attention)\n",
    "    \n",
    "    # Output layer\n",
    "    output = Dense(num_classes, activation='sigmoid')(dropout_layer)\n",
    "    \n",
    "    return Model(sequence_input, output), attention_weights\n",
    "\n",
    "# Define the number of classes and build the model\n",
    "num_classes = 2  # Adjust this based on your classification problem\n",
    "input_length = 20\n",
    "model, attention_weights = build_simple_model((input_length,), embeddings_GloVe, num_classes)\n",
    "model.compile(loss='binary_crossentropy', optimizer='adam', metrics=['accuracy'])\n",
    "\n",
    "# Model that also outputs attention weights for interpretability\n",
    "model_with_attention = Model(inputs=model.input, \n",
    "                             outputs=[model.output, attention_weights])\n",
    "\n",
    "# Assuming `X_train_LSTM` is your input prepared as per the model's expected input shape\n",
    "predictions, pooled_attention = model_with_attention.predict(X_train_LSTM)\n"
   ]
  },
  {
   "cell_type": "code",
   "execution_count": 9,
   "metadata": {},
   "outputs": [
    {
     "name": "stdout",
     "output_type": "stream",
     "text": [
      "Epoch 1/5\n",
      "WARNING:tensorflow:From c:\\Users\\bugat\\anaconda3\\Lib\\site-packages\\keras\\src\\utils\\tf_utils.py:492: The name tf.ragged.RaggedTensorValue is deprecated. Please use tf.compat.v1.ragged.RaggedTensorValue instead.\n",
      "\n",
      "WARNING:tensorflow:From c:\\Users\\bugat\\anaconda3\\Lib\\site-packages\\keras\\src\\engine\\base_layer_utils.py:384: The name tf.executing_eagerly_outside_functions is deprecated. Please use tf.compat.v1.executing_eagerly_outside_functions instead.\n",
      "\n",
      "161/161 [==============================] - 14s 58ms/step - loss: 0.6496 - accuracy: 0.6478 - val_loss: 0.6326 - val_accuracy: 0.6449\n",
      "Epoch 2/5\n",
      "161/161 [==============================] - 8s 51ms/step - loss: 0.6184 - accuracy: 0.6559 - val_loss: 0.5409 - val_accuracy: 0.7052\n",
      "Epoch 3/5\n",
      "161/161 [==============================] - 8s 51ms/step - loss: 0.5692 - accuracy: 0.7045 - val_loss: 0.5132 - val_accuracy: 0.7577\n",
      "Epoch 4/5\n",
      "161/161 [==============================] - 9s 53ms/step - loss: 0.5343 - accuracy: 0.7367 - val_loss: 0.5006 - val_accuracy: 0.7561\n",
      "Epoch 5/5\n",
      "161/161 [==============================] - 9s 57ms/step - loss: 0.5012 - accuracy: 0.7590 - val_loss: 0.4856 - val_accuracy: 0.7729\n",
      "Score for fold 1: loss of 0.48368531465530396; accuracy of 76.77946090698242%\n",
      "Epoch 1/5\n",
      "161/161 [==============================] - 9s 56ms/step - loss: 0.4862 - accuracy: 0.7711 - val_loss: 0.4570 - val_accuracy: 0.7915\n",
      "Epoch 2/5\n",
      "161/161 [==============================] - 9s 56ms/step - loss: 0.4651 - accuracy: 0.7877 - val_loss: 0.4647 - val_accuracy: 0.7822\n",
      "Epoch 3/5\n",
      "161/161 [==============================] - 9s 58ms/step - loss: 0.4236 - accuracy: 0.8094 - val_loss: 0.4644 - val_accuracy: 0.7802\n",
      "Epoch 4/5\n",
      "161/161 [==============================] - 9s 58ms/step - loss: 0.3945 - accuracy: 0.8288 - val_loss: 0.4634 - val_accuracy: 0.7787\n",
      "Score for fold 2: loss of 0.47985613346099854; accuracy of 77.2851049900055%\n",
      "Epoch 1/5\n",
      "161/161 [==============================] - 9s 58ms/step - loss: 0.3956 - accuracy: 0.8271 - val_loss: 0.3552 - val_accuracy: 0.8538\n",
      "Epoch 2/5\n",
      "161/161 [==============================] - 9s 58ms/step - loss: 0.3559 - accuracy: 0.8470 - val_loss: 0.3806 - val_accuracy: 0.8413\n",
      "Epoch 3/5\n",
      "161/161 [==============================] - 9s 58ms/step - loss: 0.3262 - accuracy: 0.8676 - val_loss: 0.3874 - val_accuracy: 0.8320\n",
      "Epoch 4/5\n",
      "161/161 [==============================] - 9s 57ms/step - loss: 0.2807 - accuracy: 0.8890 - val_loss: 0.3819 - val_accuracy: 0.8405\n",
      "Score for fold 3: loss of 0.3960527777671814; accuracy of 83.0416202545166%\n",
      "Epoch 1/5\n",
      "161/161 [==============================] - 9s 58ms/step - loss: 0.2938 - accuracy: 0.8827 - val_loss: 0.2720 - val_accuracy: 0.8958\n",
      "Epoch 2/5\n",
      "161/161 [==============================] - 9s 57ms/step - loss: 0.2491 - accuracy: 0.9066 - val_loss: 0.2647 - val_accuracy: 0.8981\n",
      "Epoch 3/5\n",
      "161/161 [==============================] - 9s 56ms/step - loss: 0.2181 - accuracy: 0.9186 - val_loss: 0.3132 - val_accuracy: 0.8724\n",
      "Epoch 4/5\n",
      "161/161 [==============================] - 9s 58ms/step - loss: 0.1932 - accuracy: 0.9306 - val_loss: 0.2802 - val_accuracy: 0.8876\n",
      "Epoch 5/5\n",
      "161/161 [==============================] - 9s 56ms/step - loss: 0.1665 - accuracy: 0.9416 - val_loss: 0.2963 - val_accuracy: 0.8888\n",
      "Score for fold 4: loss of 0.31013500690460205; accuracy of 88.05912137031555%\n",
      "Epoch 1/5\n",
      "161/161 [==============================] - 9s 57ms/step - loss: 0.1959 - accuracy: 0.9300 - val_loss: 0.1555 - val_accuracy: 0.9490\n",
      "Epoch 2/5\n",
      "161/161 [==============================] - 9s 56ms/step - loss: 0.1610 - accuracy: 0.9453 - val_loss: 0.2097 - val_accuracy: 0.9253\n",
      "Epoch 3/5\n",
      "161/161 [==============================] - 9s 58ms/step - loss: 0.1406 - accuracy: 0.9538 - val_loss: 0.1826 - val_accuracy: 0.9304\n",
      "Epoch 4/5\n",
      "161/161 [==============================] - 10s 60ms/step - loss: 0.1200 - accuracy: 0.9598 - val_loss: 0.2013 - val_accuracy: 0.9218\n",
      "Score for fold 5: loss of 0.21148356795310974; accuracy of 91.94552302360535%\n",
      "Average scores for all folds:\n",
      "> Loss: 0.37624256014823915; Accuracy: 83.42216610908508%\n"
     ]
    }
   ],
   "source": [
    "n_splits=5\n",
    "\n",
    "KF = KFold(n_splits=n_splits, shuffle=True, random_state=42) # Example: 5-fold cross-validation\n",
    "\n",
    "# Prepare arrays to store results for each fold\n",
    "fold_no = 1\n",
    "loss_per_fold = []\n",
    "acc_per_fold = []\n",
    "\n",
    "for train, test in KF.split(X_train_LSTM, y_train_LSTM):\n",
    "    # Create a fresh model for each fold\n",
    "\n",
    "    # Fit the model\n",
    "    model.fit(X_train_LSTM[train], y_train_LSTM[train],\n",
    "                        epochs=n_splits,  # Adjust based on your needs\n",
    "                        batch_size=64,\n",
    "                        callbacks=[EarlyStopping(monitor='val_loss', patience=3, min_delta=0.0001)],\n",
    "                        validation_data=(X_train_LSTM[test], y_train_LSTM[test]),\n",
    "                        verbose=1)  # You can set verbose to 0 to reduce logs\n",
    "\n",
    "    # Evaluate the model\n",
    "    scores = model.evaluate(X_train_LSTM[test], y_train_LSTM[test], verbose=0)\n",
    "    print(f'Score for fold {fold_no}: {model.metrics_names[0]} of {scores[0]}; {model.metrics_names[1]} of {scores[1]*100}%')\n",
    "    loss_per_fold.append(scores[0])\n",
    "    acc_per_fold.append(scores[1] * 100)\n",
    "    fold_no += 1\n",
    "\n",
    "# Print average scores\n",
    "print(f'Average scores for all folds:\\n> Loss: {np.mean(loss_per_fold)}; Accuracy: {np.mean(acc_per_fold)}%')"
   ]
  },
  {
   "cell_type": "code",
   "execution_count": 10,
   "metadata": {},
   "outputs": [
    {
     "name": "stdout",
     "output_type": "stream",
     "text": [
      "402/402 [==============================] - 4s 8ms/step\n"
     ]
    }
   ],
   "source": [
    "# Using the existing layers and architecture to define a new model that also outputs attention weights\n",
    "model_with_attention = Model(inputs=model.input, \n",
    "                             outputs=[model.output, attention_weights])\n",
    "\n",
    "# Assuming `input_data` is your input prepared as per the model's expected input shape\n",
    "predictions, actual_attention_weights = model_with_attention.predict(X_train_LSTM)"
   ]
  },
  {
   "cell_type": "code",
   "execution_count": 11,
   "metadata": {},
   "outputs": [],
   "source": [
    "# Assuming attention_weights is your input array\n",
    "attention_weights_np = np.array(actual_attention_weights[0], dtype=np.float32)"
   ]
  },
  {
   "cell_type": "code",
   "execution_count": 14,
   "metadata": {},
   "outputs": [
    {
     "data": {
      "text/plain": [
       "(32, 20, 1)"
      ]
     },
     "execution_count": 14,
     "metadata": {},
     "output_type": "execute_result"
    }
   ],
   "source": [
    "attention_weights_np.shape"
   ]
  },
  {
   "cell_type": "code",
   "execution_count": 13,
   "metadata": {},
   "outputs": [
    {
     "data": {
      "image/png": "[encoded data removed]",
      "text/plain": [
       "<Figure size 640x480 with 2 Axes>"
      ]
     },
     "execution_count": 13,
     "metadata": {},
     "output_type": "execute_result"
    }
   ],
   "source": [
    "import tensorflow as tf\n",
    "import numpy as np\n",
    "import matplotlib.pyplot as plt\n",
    "\n",
    "def plot_attention_heatmap(attention_weights):\n",
    "    # Assuming attention_weights is a 2D NumPy array\n",
    "    fig, ax = plt.subplots()\n",
    "    heatmap = ax.imshow(attention_weights, cmap='viridis')\n",
    "    plt.colorbar(heatmap)\n",
    "    plt.close(fig)  # Prevents the figure from being displayed here\n",
    "    return fig\n",
    "\n",
    "# Example usage within a training loop or after predictions\n",
    "fig = plot_attention_heatmap(attention_weights_np)\n",
    "fig"
   ]
  }
 ],
 "metadata": {
  "kernelspec": {
   "display_name": "base",
   "language": "python",
   "name": "python3"
  },
  "language_info": {
   "codemirror_mode": {
    "name": "ipython",
    "version": 3
   },
   "file_extension": ".py",
   "mimetype": "text/x-python",
   "name": "python",
   "nbconvert_exporter": "python",
   "pygments_lexer": "ipython3",
   "version": "3.11.7"
  }
 },
 "nbformat": 4,
 "nbformat_minor": 2
}
